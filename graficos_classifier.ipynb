{
 "cells": [
  {
   "cell_type": "code",
   "execution_count": 1,
   "metadata": {},
   "outputs": [],
   "source": [
    "import json\n",
    "import os\n",
    "import matplotlib.pyplot as plt\n",
    "import numpy as np\n",
    "import torch\n",
    "import torch.optim as optim\n",
    "import torch.nn.functional as F\n",
    "from torch.utils.data import DataLoader\n",
    "from torchvision import transforms\n",
    "from sklearn.metrics import confusion_matrix\n",
    "from sklearn.metrics import ConfusionMatrixDisplay\n",
    "from classifier import Classifier\n",
    "from autoencoder import Autoencoder\n",
    "from torchvision import datasets"
   ]
  },
  {
   "cell_type": "code",
   "execution_count": 10,
   "metadata": {},
   "outputs": [],
   "source": [
    "results_files = os.listdir('./results')\n",
    "class_results = [f for f in results_files if f.startswith('classifier') and f.endswith('.json')]\n",
    "class_results.sort()\n",
    "\n",
    "for file in class_results:\n",
    "    with open(f\"./results/{file}\", 'r') as f:\n",
    "        data = json.load(f)\n",
    "        train_loss_inc = data['train_loss_incorrect']\n",
    "        train_loss = data['train_loss']\n",
    "        valid_loss = data['valid_loss']\n",
    "\n",
    "        train_prec_inc = data['train_precision_incorrect']\n",
    "        train_prec = data['train_precision']\n",
    "        valid_prec = data['valid_precision']\n",
    "\n",
    "    fig = plt.figure(figsize=(10,10))\n",
    "    gs = fig.add_gridspec(2, hspace=0)\n",
    "    ax = gs.subplots(sharex=True)\n",
    "\n",
    "    ax[0].plot(train_loss_inc, label='Train Loss Incorrect')\n",
    "    ax[0].plot(train_loss, label='Train Loss', linestyle='--')\n",
    "    ax[0].plot(valid_loss, label='Validation Loss', linestyle='-.')\n",
    "    ax[0].set_ylabel('Loss')\n",
    "    ax[0].legend()\n",
    "    ax[0].grid()\n",
    "\n",
    "    ax[1].plot(train_prec_inc, label='Train Precision Incorrect')\n",
    "    ax[1].plot(train_prec, label='Train Precision', linestyle='--')\n",
    "    ax[1].plot(valid_prec, label='Validation Precision', linestyle='-.')\n",
    "    ax[1].set_ylabel('Precision')\n",
    "    ax[1].set_xlabel('Epoch')\n",
    "    ax[1].legend()\n",
    "    ax[1].grid()\n",
    "\n",
    "    fig.tight_layout()\n",
    "    plt.savefig(f'./results/{file[:-5]}.png')\n",
    "    plt.close(fig)"
   ]
  },
  {
   "cell_type": "code",
   "execution_count": 3,
   "metadata": {},
   "outputs": [],
   "source": [
    "# load the 3 classifier_i.pth models, and run the validation set through them\n",
    "# then plot the confusion matrix for each of them\n",
    "\n",
    "device = torch.device('cuda' if torch.cuda.is_available() else 'cpu')\n",
    "\n",
    "transform = transforms.Compose([transforms.ToTensor()])\n",
    "\n",
    "# Se cargan los datasets\n",
    "valid_set_orig = datasets.FashionMNIST('MNIST_data/', download = True, train = False, transform = transform)\n",
    "\n",
    "# Se cargan los dataloaders\n",
    "valid_loader = DataLoader(valid_set_orig, batch_size = 100, shuffle = True, num_workers=os.cpu_count()-1)\n",
    "\n",
    "# Se cargan los modelos\n",
    "models = []\n",
    "for i in range(3):\n",
    "    base_model = Autoencoder(dropout=0.2, l_size=1024)\n",
    "    model = Classifier(base_model, 10)\n",
    "    model.load_state_dict(torch.load(f'./results/classifier_{i+1}.pth', map_location=device, weights_only=True))\n",
    "    model.to(device)\n",
    "    models.append(model)"
   ]
  },
  {
   "cell_type": "code",
   "execution_count": 11,
   "metadata": {},
   "outputs": [],
   "source": [
    "# run the models on the validation set and plot the confusion matrix\n",
    "for i, model in enumerate(models):\n",
    "    model.eval()\n",
    "    y_true = []\n",
    "    y_pred = []\n",
    "    with torch.no_grad():\n",
    "        for images, labels in valid_loader:\n",
    "            images = images.to(device)\n",
    "            labels = labels.to(device)\n",
    "            outputs = model(images)\n",
    "            _, predicted = torch.max(outputs.data, 1)\n",
    "            y_true.extend(labels.cpu().numpy())\n",
    "            y_pred.extend(predicted.cpu().numpy())\n",
    "\n",
    "    cm = confusion_matrix(y_true, y_pred, normalize='true')\n",
    "    disp = ConfusionMatrixDisplay(confusion_matrix=cm, display_labels=valid_set_orig.classes)\n",
    "    fig, ax = plt.subplots(figsize=(12, 13))  # Increase the figure size\n",
    "    disp.plot(ax=ax, colorbar=False)\n",
    "    plt.savefig(f'./results/confusion_matrix_{i+1}.png')\n",
    "    plt.close()"
   ]
  }
 ],
 "metadata": {
  "kernelspec": {
   "display_name": "LCC",
   "language": "python",
   "name": "python3"
  },
  "language_info": {
   "codemirror_mode": {
    "name": "ipython",
    "version": 3
   },
   "file_extension": ".py",
   "mimetype": "text/x-python",
   "name": "python",
   "nbconvert_exporter": "python",
   "pygments_lexer": "ipython3",
   "version": "3.10.14"
  }
 },
 "nbformat": 4,
 "nbformat_minor": 2
}
