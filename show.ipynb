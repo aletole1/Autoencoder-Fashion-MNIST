{
 "cells": [
  {
   "cell_type": "code",
   "execution_count": null,
   "metadata": {},
   "outputs": [],
   "source": [
    "from Autoencoder import Autoencoder_S2F, Autoencoder_F2S\n",
    "import torch\n",
    "import matplotlib.pyplot as plt"
   ]
  },
  {
   "cell_type": "code",
   "execution_count": null,
   "metadata": {},
   "outputs": [],
   "source": [
    "# load model from ./results/model_1.pt\n",
    "model = Autoencoder_S2F()\n",
    "# model = Autoencoder_F2S()\n",
    "\n",
    "device = torch.device('cuda' if torch.cuda.is_available() else 'cpu')\n",
    "model.to(device)\n",
    "\n",
    "model.load_state_dict(torch.load('./results/S2F_0.001.pt'))\n",
    "model.eval()"
   ]
  },
  {
   "cell_type": "code",
   "execution_count": null,
   "metadata": {},
   "outputs": [],
   "source": [
    "figure = plt.figure()\n",
    "rows,cols = 3,2\n",
    "\n",
    "device = torch.device(\"cuda\" if torch.cuda.is_available() else \"cpu\")\n",
    "# print 3 images and their reconstructions\n",
    "for i in range(1,rows+1):\n",
    "    j = torch.randint(len(train_set_autoencoder),size=(1,)).item()\n",
    "    image,_ = train_set_autoencoder[j]\n",
    "    image = image.unsqueeze(0).to(device)\n",
    "    with torch.no_grad():\n",
    "        model.eval()\n",
    "        output = model(image)\n",
    "        print(output.shape)\n",
    "        \n",
    "    figure.add_subplot(rows,cols,2*i-1)\n",
    "    plt.axis(\"off\")\n",
    "    plt.imshow(image.squeeze().cpu(),cmap=\"Greys_r\")\n",
    "    figure.add_subplot(rows,cols,2*i)\n",
    "    plt.axis(\"off\")\n",
    "    plt.imshow(output.squeeze().cpu(),cmap=\"Greys_r\")"
   ]
  }
 ],
 "metadata": {
  "kernelspec": {
   "display_name": "Python 3",
   "language": "python",
   "name": "python3"
  },
  "language_info": {
   "codemirror_mode": {
    "name": "ipython",
    "version": 3
   },
   "file_extension": ".py",
   "mimetype": "text/x-python",
   "name": "python",
   "nbconvert_exporter": "python",
   "pygments_lexer": "ipython3",
   "version": "3.10.12"
  }
 },
 "nbformat": 4,
 "nbformat_minor": 2
}
